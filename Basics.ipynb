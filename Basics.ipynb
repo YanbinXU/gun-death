{
 "cells": [
  {
   "cell_type": "code",
   "execution_count": 22,
   "metadata": {
    "collapsed": false
   },
   "outputs": [
    {
     "name": "stdout",
     "output_type": "stream",
     "text": [
      "[['', 'year', 'month', 'intent', 'police', 'sex', 'age', 'race', 'hispanic', 'place', 'education'], ['1', '2012', '01', 'Suicide', '0', 'M', '34', 'Asian/Pacific Islander', '100', 'Home', '4'], ['2', '2012', '01', 'Suicide', '0', 'F', '21', 'White', '100', 'Street', '3'], ['3', '2012', '01', 'Suicide', '0', 'M', '60', 'White', '100', 'Other specified', '4']]\n"
     ]
    }
   ],
   "source": [
    "import csv\n",
    "f = open(\"guns.csv\",\"r\")\n",
    "data = list(csv.reader(f))\n",
    "print(data[0:4])"
   ]
  },
  {
   "cell_type": "code",
   "execution_count": 24,
   "metadata": {
    "collapsed": false
   },
   "outputs": [
    {
     "name": "stdout",
     "output_type": "stream",
     "text": [
      "['1', '2012', '01', 'Suicide', '0', 'M', '34', 'Asian/Pacific Islander', '100', 'Home', '4']\n",
      "[['2', '2012', '01', 'Suicide', '0', 'F', '21', 'White', '100', 'Street', '3'], ['3', '2012', '01', 'Suicide', '0', 'M', '60', 'White', '100', 'Other specified', '4'], ['4', '2012', '02', 'Suicide', '0', 'M', '64', 'White', '100', 'Home', '4'], ['5', '2012', '02', 'Suicide', '0', 'M', '31', 'White', '100', 'Other specified', '2']]\n"
     ]
    }
   ],
   "source": [
    "headers = data[0]\n",
    "data = data[1:]\n",
    "print(headers)\n",
    "print(data[0:4])"
   ]
  },
  {
   "cell_type": "code",
   "execution_count": 25,
   "metadata": {
    "collapsed": false
   },
   "outputs": [
    {
     "name": "stdout",
     "output_type": "stream",
     "text": [
      "{'2013': 33637, '2012': 33563, '2014': 33600}\n"
     ]
    }
   ],
   "source": [
    "years = []\n",
    "for item in data:\n",
    "    years.append(item[1])\n",
    "year_counts = {}\n",
    "for row in years:\n",
    "    if row not in year_counts:\n",
    "        year_counts[row] = 1\n",
    "    if row in year_counts:\n",
    "        year_counts[row] += 1\n",
    "print(year_counts)"
   ]
  },
  {
   "cell_type": "code",
   "execution_count": 26,
   "metadata": {
    "collapsed": false
   },
   "outputs": [
    {
     "name": "stdout",
     "output_type": "stream",
     "text": [
      "[datetime.datetime(2012, 1, 1, 0, 0), datetime.datetime(2012, 1, 1, 0, 0), datetime.datetime(2012, 2, 1, 0, 0), datetime.datetime(2012, 2, 1, 0, 0), datetime.datetime(2012, 2, 1, 0, 0)]\n"
     ]
    }
   ],
   "source": [
    "import datetime\n",
    "dates = []\n",
    "for row in data:\n",
    "    element = datetime.datetime(year=int(row[1]),month=int(row[2]),day=1)\n",
    "    dates.append(element)\n",
    "print(dates[:5])"
   ]
  },
  {
   "cell_type": "code",
   "execution_count": 27,
   "metadata": {
    "collapsed": false
   },
   "outputs": [
    {
     "name": "stdout",
     "output_type": "stream",
     "text": [
      "{datetime.datetime(2014, 4, 1, 0, 0): 2863, datetime.datetime(2013, 12, 1, 0, 0): 2766, datetime.datetime(2014, 1, 1, 0, 0): 2652, datetime.datetime(2013, 8, 1, 0, 0): 2860, datetime.datetime(2012, 2, 1, 0, 0): 2358, datetime.datetime(2014, 2, 1, 0, 0): 2362, datetime.datetime(2013, 4, 1, 0, 0): 2799, datetime.datetime(2014, 3, 1, 0, 0): 2685, datetime.datetime(2013, 11, 1, 0, 0): 2759, datetime.datetime(2013, 3, 1, 0, 0): 2863, datetime.datetime(2013, 1, 1, 0, 0): 2865, datetime.datetime(2014, 12, 1, 0, 0): 2858, datetime.datetime(2012, 12, 1, 0, 0): 2792, datetime.datetime(2012, 11, 1, 0, 0): 2730, datetime.datetime(2013, 7, 1, 0, 0): 3080, datetime.datetime(2012, 7, 1, 0, 0): 3027, datetime.datetime(2012, 3, 1, 0, 0): 2744, datetime.datetime(2012, 6, 1, 0, 0): 2827, datetime.datetime(2012, 10, 1, 0, 0): 2734, datetime.datetime(2012, 4, 1, 0, 0): 2796, datetime.datetime(2014, 8, 1, 0, 0): 2971, datetime.datetime(2014, 10, 1, 0, 0): 2866, datetime.datetime(2012, 5, 1, 0, 0): 3000, datetime.datetime(2014, 11, 1, 0, 0): 2757, datetime.datetime(2012, 9, 1, 0, 0): 2853, datetime.datetime(2013, 6, 1, 0, 0): 2921, datetime.datetime(2013, 10, 1, 0, 0): 2809, datetime.datetime(2012, 1, 1, 0, 0): 2758, datetime.datetime(2013, 5, 1, 0, 0): 2807, datetime.datetime(2014, 9, 1, 0, 0): 2915, datetime.datetime(2014, 6, 1, 0, 0): 2932, datetime.datetime(2013, 9, 1, 0, 0): 2743, datetime.datetime(2014, 7, 1, 0, 0): 2885, datetime.datetime(2013, 2, 1, 0, 0): 2376, datetime.datetime(2014, 5, 1, 0, 0): 2865, datetime.datetime(2012, 8, 1, 0, 0): 2955}\n"
     ]
    }
   ],
   "source": [
    "date_counts = {}\n",
    "for row in dates:\n",
    "    if row not in date_counts:\n",
    "        date_counts[row] = 1\n",
    "    if row in date_counts:\n",
    "        date_counts[row] += 1\n",
    "print(date_counts)"
   ]
  },
  {
   "cell_type": "markdown",
   "metadata": {},
   "source": [
    "list comprehension的用法https://docs.python.org/3/tutorial/datastructures.html#more-on-lists"
   ]
  },
  {
   "cell_type": "code",
   "execution_count": 28,
   "metadata": {
    "collapsed": false
   },
   "outputs": [
    {
     "name": "stdout",
     "output_type": "stream",
     "text": [
      "{'Native American/Native Alaskan': 918, 'Asian/Pacific Islander': 1326, 'White': 66238, 'Hispanic': 9023, 'Black': 23297}\n",
      "{'F': 14450, 'M': 86349}\n"
     ]
    }
   ],
   "source": [
    "sex_counts = {}\n",
    "for row in data:\n",
    "    if row[5] not in sex_counts:\n",
    "        sex_counts[row[5]] = 1\n",
    "    if row[5] in sex_counts:\n",
    "        sex_counts[row[5]] += 1\n",
    "race_counts = {}\n",
    "for row in data:\n",
    "    if row[7] not in race_counts:\n",
    "        race_counts[row[7]] = 1\n",
    "    if row[7] in race_counts:\n",
    "        race_counts[row[7]] += 1\n",
    "print(race_counts)\n",
    "print(sex_counts)"
   ]
  },
  {
   "cell_type": "code",
   "execution_count": 31,
   "metadata": {
    "collapsed": false
   },
   "outputs": [
    {
     "name": "stdout",
     "output_type": "stream",
     "text": [
      "[['Id', 'Year', 'Id', 'Sex', 'Id', 'Hispanic Origin', 'Id', 'Id2', 'Geography', 'Total', 'Race Alone - White', 'Race Alone - Hispanic', 'Race Alone - Black or African American', 'Race Alone - American Indian and Alaska Native', 'Race Alone - Asian', 'Race Alone - Native Hawaiian and Other Pacific Islander', 'Two or More Races'], ['cen42010', 'April 1, 2010 Census', 'totsex', 'Both Sexes', 'tothisp', 'Total', '0100000US', '', 'United States', '308745538', '197318956', '44618105', '40250635', '3739506', '15159516', '674625', '6984195']]\n"
     ]
    }
   ],
   "source": [
    "import csv\n",
    "f = open(\"census.csv\",\"r\")\n",
    "census = list(csv.reader(f))\n",
    "print(census)"
   ]
  },
  {
   "cell_type": "code",
   "execution_count": 54,
   "metadata": {
    "collapsed": false
   },
   "outputs": [
    {
     "name": "stdout",
     "output_type": "stream",
     "text": [
      "{'Native American/Native Alaskan': 3739506, 'White': 197318956, 'Asian/Pacific Islander': 15834141, 'Hispanic': 44618105, 'Black': 40250635}\n",
      "{'Native American/Native Alaskan': 24.55, 'Asian/Pacific Islander': 8.37, 'White': 33.57, 'Hispanic': 20.22, 'Black': 57.88}\n"
     ]
    }
   ],
   "source": [
    "mapping = {}\n",
    "list1 = census[0]\n",
    "list2 = census[1]\n",
    "mapping[\"Asian/Pacific Islander\"] = int(list2[list1.index(\"Race Alone - Asian\")]) + int(list2[list1.index(\"Race Alone - Native Hawaiian and Other Pacific Islander\")])\n",
    "mapping[\"Black\"] = int(list2[list1.index(\"Race Alone - Black or African American\")]) \n",
    "mapping[\"Hispanic\"] = int(list2[list1.index(\"Race Alone - Hispanic\")]) \n",
    "mapping[\"Native American/Native Alaskan\"] = int(list2[list1.index(\"Race Alone - American Indian and Alaska Native\")]) \n",
    "mapping[\"White\"] = int(list2[list1.index(\"Race Alone - White\")]) \n",
    "print(mapping)\n",
    "race_per_hundredk = {}\n",
    "for item in race_counts:\n",
    "    race_per_hundredk[item]= round(race_counts[item] / mapping[item] * 100000, 2)\n",
    "print(race_per_hundredk)"
   ]
  },
  {
   "cell_type": "code",
   "execution_count": 67,
   "metadata": {
    "collapsed": false
   },
   "outputs": [
    {
     "name": "stdout",
     "output_type": "stream",
     "text": [
      "['Suicide', 'Suicide', 'Suicide', 'Suicide', 'Suicide']\n",
      "['White', 'White', 'White', 'White', 'Native American/Native Alaskan']\n",
      "{'Native American/Native Alaskan': 8.74, 'Asian/Pacific Islander': 3.54, 'White': 4.64, 'Hispanic': 12.63, 'Black': 48.47}\n"
     ]
    }
   ],
   "source": [
    "intents = [x[3] for x in data]\n",
    "print(intents[:5])\n",
    "races = [x[7] for x in data]\n",
    "print(races[:5])\n",
    "homicide_race_per_hundredk = {}\n",
    "for i, race in enumerate(races):\n",
    "    if intents[i] == \"Homicide\":\n",
    "        if race not in homicide_race_per_hundredk:\n",
    "            homicide_race_per_hundredk[race] = 1\n",
    "        if race in homicide_race_per_hundredk:\n",
    "            homicide_race_per_hundredk[race] += 1\n",
    "for item in homicide_race_per_hundredk:\n",
    "    homicide_race_per_hundredk[item]= round(homicide_race_per_hundredk[item] / mapping[item] * 100000, 2)\n",
    "print(homicide_race_per_hundredk)"
   ]
  }
 ],
 "metadata": {
  "kernelspec": {
   "display_name": "Python 3",
   "language": "python",
   "name": "python3"
  },
  "language_info": {
   "codemirror_mode": {
    "name": "ipython",
    "version": 3
   },
   "file_extension": ".py",
   "mimetype": "text/x-python",
   "name": "python",
   "nbconvert_exporter": "python",
   "pygments_lexer": "ipython3",
   "version": "3.4.3"
  }
 },
 "nbformat": 4,
 "nbformat_minor": 0
}
   "source": [
    "Here are some potential next steps:
Figure out the link, if any, between month and homicide rate.
Explore the homicide rate by gender.
Explore the rates of other intents, like Accidental, by gender and race.
Find out if gun death rates correlate to location and education."
   ]
